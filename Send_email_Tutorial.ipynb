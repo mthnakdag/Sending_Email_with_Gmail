{
 "cells": [
  {
   "cell_type": "markdown",
   "metadata": {},
   "source": [
    "<a id=\"0\"></a>\n",
    "# SEND SPECIAL MAIL WITH GIVEN LIST\n",
    "\n",
    "Hello everyone, today we talk about how to send an email on GMail given a csv which is include names and mail addresses such as like on Covid-19 I send some mails to someones about python lectures in friday at 9.00 ... etc. this is special for users name and it is only **plain text** format  this is a keyword our notebook lets start with some settings on Google for passing security problems.\n",
    "\n",
    "**Content**:\n",
    "1. [Google Setting](#1)\n",
    "1. [Python](#2)\n",
    "    * [SMTPLIB](#3)\n",
    "    * [MIME](#4)\n",
    "    * [Coding](#5)\n",
    "        * [Import Module](#6)\n",
    "        * [Send Mail Function](#7)\n",
    "        * [Preprocess and Sending Mails](#8)\n",
    "    "
   ]
  },
  {
   "cell_type": "markdown",
   "metadata": {},
   "source": [
    "<a id = \"1\"></a>\n",
    "## Google Setting\n"
   ]
  },
  {
   "cell_type": "markdown",
   "metadata": {},
   "source": [
    "</br> ![Gmail Page](https://i.ibb.co/SBpSNmK/Ekran-Al-nt-s.png)\n",
    "* Firstly we open Gmail and Click Applications\n",
    "\n",
    "</br> ![Account-Pop Page](https://i.ibb.co/TTgWR8r/Ekran-Al-nt-s.png)\n",
    "* Click Account\n",
    "\n",
    "</br> ![Account Page](https://i.ibb.co/qrZd68m/Ekran-Al-nt-s.png)\n",
    "* Open the Account Main page firstly we change it **Security** page and scroll down default it is close for your security but we need to open our application access\n",
    "\n",
    "* if you see a mail in inbox about your open the application access, everything is good. Otherwise, please take help someone or contact me.\n",
    "\n",
    "This is end of Google Setting now we can send a mail others using python programming language.\n",
    "<br>\n",
    "[⤴Return Top](#0)"
   ]
  },
  {
   "cell_type": "markdown",
   "metadata": {},
   "source": [
    "<a id='2'></a>\n",
    "## Python"
   ]
  },
  {
   "cell_type": "markdown",
   "metadata": {},
   "source": [
    "Firstly, why we use python? Because it is one of the easiest way to faster the boring process. and we need some special functions in python this functions are **smtplib** and **MIME**. They are satisfy our all needs"
   ]
  },
  {
   "cell_type": "markdown",
   "metadata": {},
   "source": [
    "<a id = \"3\"></a>,\n",
    "### SMTPLIB\n",
    "The smtplib module defines an SMTP client session object that can be used to send mail to any Internet machine with an SMTP or ESMTP listener daemon. For details of SMTP and ESMTP operation, consult RFC 821 (Simple Mail Transfer Protocol) and RFC 1869 (SMTP Service Extensions). [More details in](https://docs.python.org/3/library/smtplib.html)\n",
    "![Smtp connection](https://image.slidesharecdn.com/snmp-171108051004/95/snmpsmtpmime-23-638.jpg?cb=1510118013)\n"
   ]
  },
  {
   "cell_type": "markdown",
   "metadata": {},
   "source": [
    "<a id = \"4\"></a>\n",
    "### MIME\n",
    "Multipurpose Internet Mail Extensions (MIME) is an Internet standard that extends the format of email messages to support text in character sets other than ASCII, as well as attachments of audio, video, images, and application programs. Message bodies may consist of multiple parts, and header information may be specified in non-ASCII character sets. Email messages with MIME formatting are typically transmitted with standard protocols, such as the Simple Mail Transfer Protocol (SMTP), the Post Office Protocol (POP), and the Internet Message Access Protocol (IMAP).[More details in](https://en.wikipedia.org/wiki/MIME)\n",
    "<br>\n",
    "[⤴Return Top](#0)"
   ]
  },
  {
   "cell_type": "markdown",
   "metadata": {},
   "source": [
    "<a id =\"5\"></a>\n",
    "### Coding"
   ]
  },
  {
   "cell_type": "markdown",
   "metadata": {},
   "source": [
    "<a id = \"6\"></a>\n",
    "#### Import Module\n",
    "firstly we need to import using module in **smtplib** for smtp connection ; **MIMEText**, **MIMEImage** and **MIMEMultipart** under **email** part for content of mail procedures."
   ]
  },
  {
   "cell_type": "code",
   "execution_count": 1,
   "metadata": {},
   "outputs": [],
   "source": [
    "import smtplib\n",
    "import os\n",
    "import pandas as pd # pandas package providing fast, flexible, and expressive data structures designed \n",
    "from email.mime.text import MIMEText\n",
    "from email.mime.multipart import MIMEMultipart\n",
    "from email.mime.image import MIMEImage"
   ]
  },
  {
   "cell_type": "markdown",
   "metadata": {},
   "source": [
    "<a id = \"7\"></a>\n",
    "#### Send Mail Function\n",
    "now design mail concept with a function send a plain == normal text or send a html == hyper text format send someone and send with your personel google Account using SMTP agent port "
   ]
  },
  {
   "cell_type": "code",
   "execution_count": 2,
   "metadata": {},
   "outputs": [],
   "source": [
    "USERNAME = \"\" # google account\n",
    "PASSWORD = \"\" #google password\n",
    "HOST = 'smtp.gmail.com' # our host service\n",
    "PORT = 587 # spesific port for tcp communication more details in https://en.wikipedia.org/wiki/List_of_TCP_and_UDP_port_numbers"
   ]
  },
  {
   "cell_type": "code",
   "execution_count": 3,
   "metadata": {},
   "outputs": [],
   "source": [
    "def send_mail(text=None, subject=\"\",\n",
    "              from_email=None, to_email=None,\n",
    "              html = None,img_path=None):\n",
    "    \n",
    "    \"\"\"\n",
    "    text is input email body -- str\n",
    "    subject is input email subject -- str\n",
    "    from_email which mail addresses -- str\n",
    "    to_email send email who . You can change some code parts to_email convert a list with (\", \").join format --str\n",
    "    html if your body part is not plain text hyper text also you can send html --str\n",
    "    img_path if you can adding a image give image path -- str\n",
    "    \"\"\"\n",
    "    \n",
    "    assert isinstance(text,str) or isinstance(html,str)\n",
    "    assert isinstance(from_email, str)\n",
    "    assert isinstance(to_email, str)\n",
    "    \n",
    "    msg = MIMEMultipart(\"alternative\")# Creating a msg object suitable for smtp format\n",
    "    msg[\"From\"] = from_email \n",
    "    msg[\"To\"] = to_email\n",
    "    msg[\"Subject\"] = subject\n",
    "    \n",
    "\n",
    "    if text is not None:                 # if text coming\n",
    "        txt_part = MIMEText(text, \"plain\")\n",
    "        msg.attach(txt_part) #attaching body\n",
    "        \n",
    "    if html is not None:                 # if html coming\n",
    "        html_part = MIMEText(html,\"html\")\n",
    "        msg.attach(html_part)            # attaching body\n",
    "        \n",
    "    if img_path is not None:             # if image coming\n",
    "        image = MIMEImage(open(img_path, \"rb\").read(), name= os.path.basename(img_path))\n",
    "        msg.attach(image)                # attaching image\n",
    "        \n",
    "    msg_str = msg.as_string() # msg convert the string format\n",
    "    \n",
    "    \n",
    "    with smtplib.SMTP(host= HOST, port= PORT) as server: #server communication\n",
    "        server.ehlo()\n",
    "        server.starttls()\n",
    "        server.login(USERNAME, PASSWORD)\n",
    "        server.sendmail(from_email, to_email, msg_str)"
   ]
  },
  {
   "cell_type": "markdown",
   "metadata": {},
   "source": [
    "<a id = \"8\"></a>\n",
    "#### Preprocess and Sending Mails"
   ]
  },
  {
   "cell_type": "markdown",
   "metadata": {},
   "source": [
    "* Now everything is good we open our text file and read it.\n",
    "* My nationality is Turkish so that our text format \"utf-8\".\n",
    "* We read csv file list for Accepted Course. (Now I use a dummy one because privacy is sacred)\n",
    "* we known in turkey every person has at least one name and one surname so that we split and select first element of names\n",
    "* After send Email"
   ]
  },
  {
   "cell_type": "code",
   "execution_count": 4,
   "metadata": {},
   "outputs": [
    {
     "name": "stdout",
     "output_type": "stream",
     "text": [
      "Merhaba kAdi,\n",
      "Python eğitimine kabul edildiniz. Python Eğitimi başlangıç düzeyinde başlayacaktır ve sınıfın seviyesine bağlı olarak ivme kazanacak veya sakince temeller üstünde durulacaktır. Temellerin anlatılması üzerine sınıfların karılarak bir proje yapılması ile de eğitim bu dönem bitirilecektir ve Cuma günü saat 9.30-11.20 arası uygun lab olmadığından dolayı bulunan uygun sınıfta yapılacaktır bu sebepten dolayı herkes kendi bilgisayarı ile gelecektir. Sınıfı hafta içi duyuracağım. \n",
      "İyi günler.\n"
     ]
    }
   ],
   "source": [
    "originalbody = open(\"./body.txt\",\"r\",encoding=\"utf-8\").read()\n",
    "print(originalbody)"
   ]
  },
  {
   "cell_type": "code",
   "execution_count": 5,
   "metadata": {},
   "outputs": [
    {
     "data": {
      "text/html": [
       "<div>\n",
       "<style scoped>\n",
       "    .dataframe tbody tr th:only-of-type {\n",
       "        vertical-align: middle;\n",
       "    }\n",
       "\n",
       "    .dataframe tbody tr th {\n",
       "        vertical-align: top;\n",
       "    }\n",
       "\n",
       "    .dataframe thead th {\n",
       "        text-align: right;\n",
       "    }\n",
       "</style>\n",
       "<table border=\"1\" class=\"dataframe\">\n",
       "  <thead>\n",
       "    <tr style=\"text-align: right;\">\n",
       "      <th></th>\n",
       "      <th>ISIM</th>\n",
       "      <th>MAIL</th>\n",
       "      <th>ONAY</th>\n",
       "      <th>SINIF</th>\n",
       "      <th>SEVIYE</th>\n",
       "    </tr>\n",
       "  </thead>\n",
       "  <tbody>\n",
       "    <tr>\n",
       "      <th>0</th>\n",
       "      <td>Metehan Akdağ</td>\n",
       "      <td>mthnakdag@gmail.com</td>\n",
       "      <td>1</td>\n",
       "      <td>4</td>\n",
       "      <td>5</td>\n",
       "    </tr>\n",
       "    <tr>\n",
       "      <th>1</th>\n",
       "      <td>Mert Türker</td>\n",
       "      <td>tmert0697@gmail.com</td>\n",
       "      <td>1</td>\n",
       "      <td>4</td>\n",
       "      <td>2</td>\n",
       "    </tr>\n",
       "    <tr>\n",
       "      <th>2</th>\n",
       "      <td>Anıl Can Ergüden</td>\n",
       "      <td>anilcan0660@gmail.com</td>\n",
       "      <td>1</td>\n",
       "      <td>4</td>\n",
       "      <td>1</td>\n",
       "    </tr>\n",
       "    <tr>\n",
       "      <th>3</th>\n",
       "      <td>Dummy Dummy</td>\n",
       "      <td>akdag.metehan231345@gmail.com</td>\n",
       "      <td>1</td>\n",
       "      <td>1</td>\n",
       "      <td>0</td>\n",
       "    </tr>\n",
       "  </tbody>\n",
       "</table>\n",
       "</div>"
      ],
      "text/plain": [
       "               ISIM                           MAIL  ONAY  SINIF  SEVIYE\n",
       "0     Metehan Akdağ            mthnakdag@gmail.com     1      4       5\n",
       "1       Mert Türker            tmert0697@gmail.com     1      4       2\n",
       "2  Anıl Can Ergüden          anilcan0660@gmail.com     1      4       1\n",
       "3       Dummy Dummy  akdag.metehan231345@gmail.com     1      1       0"
      ]
     },
     "execution_count": 5,
     "metadata": {},
     "output_type": "execute_result"
    }
   ],
   "source": [
    "df = pd.read_csv(\"liste.csv\")\n",
    "df"
   ]
  },
  {
   "cell_type": "code",
   "execution_count": 6,
   "metadata": {},
   "outputs": [
    {
     "name": "stdout",
     "output_type": "stream",
     "text": [
      "Metehan Akdağ kişisine mail gönderildi\n",
      "Mert Türker kişisine mail gönderildi\n",
      "Anıl Can Ergüden kişisine mail gönderildi\n",
      "Dummy Dummy kişisine mail gönderildi\n"
     ]
    }
   ],
   "source": [
    "for i,person in df.iterrows():\n",
    "    body = originalbody.replace(\"kAdi\",person.ISIM.split()[0])\n",
    "    if person.ONAY:\n",
    "        send_mail(text=body,subject=\"Python Eğitimine Kabul Edildiniz\",from_email=\"Metehan Akdağ <{}>\".format(USERNAME),\n",
    "                 to_email= person.MAIL,img_path=\"python.jpg\")\n",
    "        print(\"{} kişisine mail gönderildi\".format(person.ISIM))"
   ]
  },
  {
   "cell_type": "markdown",
   "metadata": {},
   "source": [
    "AND RESULT\n",
    "<br><br><br>\n",
    "\n",
    "![EMAIL](https://i.ibb.co/ZTdFkDy/Ekran-Al-nt-s.png)\n",
    "<br><br><br>\n",
    "That is too easy only code but I write this notebook explained some questions how and why connection and send with python with a google Account.\n",
    "<br>\n",
    "<br>Thank you for Reading.\n",
    "<br>\n",
    "<br>This Notebook Prepared by Metehan Akdağ\n",
    "<br>[⤴Return Top](#0)"
   ]
  }
 ],
 "metadata": {
  "kernelspec": {
   "display_name": "Python 3",
   "language": "python",
   "name": "python3"
  },
  "language_info": {
   "codemirror_mode": {
    "name": "ipython",
    "version": 3
   },
   "file_extension": ".py",
   "mimetype": "text/x-python",
   "name": "python",
   "nbconvert_exporter": "python",
   "pygments_lexer": "ipython3",
   "version": "3.8.2"
  }
 },
 "nbformat": 4,
 "nbformat_minor": 4
}
